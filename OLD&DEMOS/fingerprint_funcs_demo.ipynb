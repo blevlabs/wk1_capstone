{
 "cells": [
  {
   "cell_type": "markdown",
   "id": "7d362b57",
   "metadata": {
    "pycharm": {
     "name": "#%% md\n"
    }
   },
   "source": [
    "# After receiving fingerprints from peaks_to_fingerprint function, use the following function to convert fingerprints into dictionaries for storing in the database"
   ]
  },
  {
   "cell_type": "code",
   "execution_count": 1,
   "id": "bd3d368f",
   "metadata": {
    "pycharm": {
     "name": "#%%\n"
    }
   },
   "outputs": [
    {
     "data": {
      "text/plain": [
       "{(1, 2, 0.1): [(0, 10)],\n",
       " (1, 3, 5): [(0, 40)],\n",
       " (2, 3, 7): [(0, 20), (0, 13)],\n",
       " (3, 5, 4): [(0, 19)],\n",
       " (3, 3, 7): [(0, 13)]}"
      ]
     },
     "execution_count": 1,
     "metadata": {},
     "output_type": "execute_result"
    }
   ],
   "source": [
    "import numpy as np\n",
    "from fingerprints import fingerprint_to_dict, find_match\n",
    "\n",
    "# `dummy_fingerprint_mp3` could be a np array\n",
    "# see docs for fingerprint_to_dict func in fingerprints.py for why it's currently a list\n",
    "fingerprint_mp3_0 = [[[(1, 2, 0.1), 10], # let neighbors = 2, num_peaks = 3\n",
    "                      [(1, 3, 5), 40]], \n",
    "\n",
    "                      [[(2, 3, 7), 20],\n",
    "                      [(2, 3, 7), 13]],\n",
    "                       \n",
    "                      [[(3, 5, 4), 19],\n",
    "                      [(3, 3, 7), 13]]]\n",
    "\n",
    "fingerprint_mp3_1 = [[[(1, 2, 0.1), 10], # let neighbors = 3, num_peaks = 3\n",
    "                      [(1, 3, 5), 40], \n",
    "                      [(1, 9, 1), 30]], \n",
    "\n",
    "                      [[(4, 6, 7), 234],\n",
    "                      [(4, 8, 7), 84],\n",
    "                      [(4, 3, 7), 3]],\n",
    "                       \n",
    "                      [[(6, 5, 4), 19],\n",
    "                      [(6, 3, 7), 13],\n",
    "                      [(6, 89, 7), 89]]]\n",
    "\n",
    "fingerprint_mp3_0 = fingerprint_to_dict(fingerprint_mp3_0, 0)\n",
    "fingerprint_mp3_1 = fingerprint_to_dict(fingerprint_mp3_1, 1)\n",
    "fingerprint_mp3_0"
   ]
  },
  {
   "cell_type": "code",
   "execution_count": 2,
   "id": "5c63bbb6",
   "metadata": {
    "pycharm": {
     "name": "#%%\n"
    }
   },
   "outputs": [
    {
     "data": {
      "text/plain": [
       "{(1, 2, 0.1): [(1, 10)],\n",
       " (1, 3, 5): [(1, 40)],\n",
       " (1, 9, 1): [(1, 30)],\n",
       " (4, 6, 7): [(1, 234)],\n",
       " (4, 8, 7): [(1, 84)],\n",
       " (4, 3, 7): [(1, 3)],\n",
       " (6, 5, 4): [(1, 19)],\n",
       " (6, 3, 7): [(1, 13)],\n",
       " (6, 89, 7): [(1, 89)]}"
      ]
     },
     "execution_count": 2,
     "metadata": {},
     "output_type": "execute_result"
    }
   ],
   "source": [
    "fingerprint_mp3_1"
   ]
  },
  {
   "cell_type": "markdown",
   "id": "90fe4dc8",
   "metadata": {
    "pycharm": {
     "name": "#%% md\n"
    }
   },
   "source": [
    "# Studio songs: Brayden or Jordi can figure out how to store dictionary into database\n",
    "# Computer recorded songs: Dictionary would be compared with fingerprints in the database"
   ]
  },
  {
   "cell_type": "code",
   "execution_count": 3,
   "outputs": [
    {
     "name": "stdout",
     "output_type": "stream",
     "text": [
      "<class 'dict'>\n",
      "dict_values([[(0, 10)], [(0, 40)], [(0, 20), (0, 13)], [(0, 19)], [(0, 13)]])\n"
     ]
    }
   ],
   "source": [
    "d1 = {(1, 2, 0.1): [(0, 10)],\n",
    " (1, 3, 5): [(0, 40)],\n",
    " (2, 3, 7): [(0, 20), (0, 13)],\n",
    " (3, 5, 4): [(0, 19)],\n",
    " (3, 3, 7): [(0, 13)]}\n",
    "print(type(d1))\n",
    "print(d1.values())"
   ],
   "metadata": {
    "collapsed": false,
    "pycharm": {
     "name": "#%%\n"
    }
   }
  },
  {
   "cell_type": "markdown",
   "id": "3844e298",
   "metadata": {
    "pycharm": {
     "name": "#%% md\n"
    }
   },
   "source": [
    "# Task2: Querying the database and tallying the results of the query."
   ]
  },
  {
   "cell_type": "code",
   "execution_count": 3,
   "id": "0ccb48f3",
   "metadata": {
    "pycharm": {
     "name": "#%%\n"
    }
   },
   "outputs": [
    {
     "data": {
      "text/plain": [
       "{(1, 2, 0.1): [(None, 5), (None, 4)],\n",
       " (2, 3, 7): [(None, 20)],\n",
       " (2, 5, 4): [(None, 19)],\n",
       " (6, 5, 4): [(None, 19)],\n",
       " (6, 3, 7): [(None, 13)],\n",
       " (6, 89, 7): [(None, 89)]}"
      ]
     },
     "execution_count": 3,
     "metadata": {},
     "output_type": "execute_result"
    }
   ],
   "source": [
    "# let's say we recorded audio that has fingerprint `fingerprint_mic`\n",
    "fingerprint_mic = [[[(1, 2, 0.1), 5], # let neighbors = 2, num_peaks = 2\n",
    "                  [(1, 2, 0.1), 4]], \n",
    "\n",
    "                  [[(2, 3, 7), 20],\n",
    "                  [(2, 5, 4), 19]],\n",
    "                   \n",
    "                  [[(6, 5, 4), 19],\n",
    "                  [(6, 3, 7), 13],\n",
    "                  [(6, 89, 7), 89]]]\n",
    "        \n",
    "fingerprint_mic = fingerprint_to_dict(fingerprint_mic, None)\n",
    "fingerprint_mic"
   ]
  },
  {
   "cell_type": "code",
   "execution_count": 4,
   "id": "f700305b",
   "metadata": {
    "pycharm": {
     "name": "#%%\n"
    }
   },
   "outputs": [
    {
     "name": "stdout",
     "output_type": "stream",
     "text": [
      "You can comment this out in the find_matches func:  Counter({(1, 0): 3, (0, 5): 1, (0, 6): 1, (1, 5): 1, (1, 6): 1, (0, 0): 1, (0, -7): 1})\n",
      "Song ID: 1\n"
     ]
    }
   ],
   "source": [
    "song_ID = find_match(fingerprint_mic, min_threshold=0)\n",
    "print(\"Song ID:\", song_ID)"
   ]
  },
  {
   "cell_type": "markdown",
   "id": "d4aa9e7d",
   "metadata": {
    "pycharm": {
     "name": "#%% md\n"
    }
   },
   "source": [
    "# Brian can convert Song ID to Song title + artist"
   ]
  },
  {
   "cell_type": "code",
   "execution_count": null,
   "id": "374c8235",
   "metadata": {
    "pycharm": {
     "name": "#%%\n"
    }
   },
   "outputs": [],
   "source": []
  }
 ],
 "metadata": {
  "kernelspec": {
   "display_name": "Python 3.8.13 ('week1')",
   "language": "python",
   "name": "python3"
  },
  "language_info": {
   "codemirror_mode": {
    "name": "ipython",
    "version": 3
   },
   "file_extension": ".py",
   "mimetype": "text/x-python",
   "name": "python",
   "nbconvert_exporter": "python",
   "pygments_lexer": "ipython3",
   "version": "3.8.13"
  },
  "vscode": {
   "interpreter": {
    "hash": "d83d63ff42f99f351718605f93ce7dd50bd6cc9ce7eefd5f145cc5f720743d42"
   }
  }
 },
 "nbformat": 4,
 "nbformat_minor": 5
}