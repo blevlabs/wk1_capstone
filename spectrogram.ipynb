{
 "cells": [
  {
   "cell_type": "code",
   "execution_count": null,
   "metadata": {
    "pycharm": {
     "name": "#%%\n"
    }
   },
   "outputs": [],
   "source": [
    "# Amy module\n",
    "'''Creating a function that takes in digital samples of a song/recording \n",
    "and produces a spectrogram of log-scaled amplitudes and extracts local peaks from it'''\n",
    "import matplotlib.mlab as mlab\n",
    "def samples_to_spectrogram(samples_array):\n",
    "    "
   ]
  }
 ],
 "metadata": {
  "kernelspec": {
   "display_name": "Python 3.9.9 64-bit",
   "language": "python",
   "name": "python3"
  },
  "language_info": {
   "name": "python",
   "version": "3.9.9"
  },
  "orig_nbformat": 4,
  "vscode": {
   "interpreter": {
    "hash": "4bef01f8b2c353ae1912061b8720f3d51cb1bd0c5910f32855c4fdbf8a3f5881"
   }
  }
 },
 "nbformat": 4,
 "nbformat_minor": 2
}