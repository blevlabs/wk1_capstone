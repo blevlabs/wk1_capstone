{
 "cells": [
  {
   "cell_type": "code",
   "execution_count": null,
   "metadata": {
    "pycharm": {
     "name": "#%%\n"
    }
   },
   "outputs": [],
   "source": [
    "# Amy module\n",
    "'''Creating a function that takes in digital samples of a song/recording \n",
    "and produces a spectrogram of log-scaled amplitudes and extracts local peaks from it'''\n",
    "import matplotlib.mlab as mlab\n",
    "from mygrad import sliding_window_view\n",
    "def samples_to_spectrogram(audio_directory=\"\",time=0,dir=False,mic=False):\n",
    "    # parameters: digital samples of a song/recording\n",
    "    # produces spectrogram of log-scaled amplitudes\n",
    "    # returns: local peaks\n",
    "\n",
    "    # spectrogram plotting section\n",
    "    # call first function and assign to samples_array, sampling_rate\n",
    "    samples_array, sampling_rate = user_audio_input(audio_directory=\"\",time=0,dir=False,mic=False)\n",
    "    # S is spectrum\n",
    "    S, freqs, times, im = ax.specgram(\n",
    "        samples_array,\n",
    "        NFFT=4096,\n",
    "        Fs=sampling_rate,\n",
    "        window=mlab.window_hanning,\n",
    "        noverlap=4096 // 2,\n",
    "        mode='magnitude',\n",
    "        #unsure about below line of code\n",
    "        scale=\"dB\")\n",
    "\n",
    "    # creating time windows\n",
    "    window_dt = np.diff(times)[0] # desired temporal duration of each window of audio data\n",
    "    window_size = int(window_dt * sampling_rate)\n",
    "    fig.colorbar(im)\n",
    "    windowed_audio = sliding_window_view(samples_array, window_shape=(window_size,), step=window_size)\n",
    "\n",
    "    # fourier transform\n",
    "    ck_for_each_window = np.fft.rfft(windowed_audio, axis=1)\n",
    "    ak_for_each_window = np.absolute(ck_for_each_window) / N\n",
    "    ak_for_each_window[:, 1 : (-1 if N % 2 == 0 else None)] *= 2\n",
    "\n",
    "\n",
    "    spectrogram = ak_for_each_window.T"
   ]
  }
 ],
 "metadata": {
  "kernelspec": {
   "display_name": "Python 3.8.13 ('week1')",
   "language": "python",
   "name": "python3"
  },
  "language_info": {
   "name": "python",
   "version": "3.8.13"
  },
  "orig_nbformat": 4,
  "vscode": {
   "interpreter": {
    "hash": "d83d63ff42f99f351718605f93ce7dd50bd6cc9ce7eefd5f145cc5f720743d42"
   }
  }
 },
 "nbformat": 4,
 "nbformat_minor": 2
}
