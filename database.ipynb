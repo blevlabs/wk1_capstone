{
 "cells": [
  {
   "cell_type": "code",
   "execution_count": null,
   "metadata": {},
   "outputs": [],
   "source": [
    "# Brayden Funcs:\n",
    "'''\n",
    "This is for database stuff\n",
    "'''\n",
    "from microphone import record_audio\n",
    "import numpy as np\n",
    "from librosa import load\n",
    "def user_audio_input(audio_directory=\"\",time=0,dir=False,mic=False):\n",
    "    '''\n",
    "    Creating functions for converting all variety of audio recordings, be them recorded from the microphone or digital audio files, into a NumPy-array of digital samples\n",
    "    '''\n",
    "    if dir:\n",
    "        assert audio_directory != \"\", \"Please enter a valid image directory\"\n",
    "        samples,sampling_rate = load(path=audio_directory)\n",
    "        return samples,sampling_rate\n",
    "    else:\n",
    "        assert time != 0\n",
    "        frames, sample_rate = record_audio(time)\n",
    "        samples = np.hstack([np.frombuffer(i, np.int16) for i in frames])\n",
    "        return samples,sample_rate\n"
   ]
  },
  {
   "cell_type": "code",
   "execution_count": null,
   "metadata": {},
   "outputs": [],
   "source": [
    "# DATABASE INTERFACE\n",
    "\n",
    "import pickle\n",
    "def interface(database_directory=\"\",switch=False,deletionmode=[],usertuples=None):\n",
    "    '''\n",
    "    database_directory: For database switching, deletion, etc\n",
    "    switch: switch databases\n",
    "    deletion mode: [Boolean (True/False),SongID]: List with bool value for state of deletion mode\n",
    "    usertupes -> List/Lists of Tuples: Tuples generated from user input audio to compare for song identification. \n",
    "    '''\n",
    "    # need an efficient proper way to check parameters\n",
    "    pass"
   ]
  },
  {
   "cell_type": "code",
   "execution_count": null,
   "metadata": {},
   "outputs": [],
   "source": [
    "# DATABASE INTERFACE\n",
    "\n",
    "import pickle\n",
    "def interface(database_directory=\"\",switch=False,deletionmode=[],usertuples=None):\n",
    "    '''\n",
    "    database_directory: For database switching, deletion, etc\n",
    "    switch: switch databases\n",
    "    deletion mode: [Boolean (True/False),SongID]: List with bool value for state of deletion mode\n",
    "    usertupes -> List/Lists of Tuples: Tuples generated from user input audio to compare for song identification. \n",
    "    '''\n",
    "    # need an efficient proper way to check parameters\n",
    "    pass"
   ]
  }
 ],
 "metadata": {
  "kernelspec": {
   "display_name": "Python 3.8.13 ('week1')",
   "language": "python",
   "name": "python3"
  },
  "language_info": {
   "name": "python",
   "version": "3.8.13"
  },
  "orig_nbformat": 4,
  "vscode": {
   "interpreter": {
    "hash": "d0449198d7b4fc5adc53309e08f0f47c66c02dda840753abc0e87f6ee77ae536"
   }
  }
 },
 "nbformat": 4,
 "nbformat_minor": 2
}
