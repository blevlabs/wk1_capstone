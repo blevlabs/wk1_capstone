{
 "cells": [
  {
   "cell_type": "code",
   "execution_count": null,
   "metadata": {
    "pycharm": {
     "name": "#%%\n"
    }
   },
   "outputs": [],
   "source": [
    "# Jordi Module\n",
    "#Task 8 "
   ]
  },
  {
   "cell_type": "code",
   "execution_count": null,
   "metadata": {
    "pycharm": {
     "name": "#%%\n"
    }
   },
   "outputs": [],
   "source": [
    "# Amy's Module\n",
    "'''Creat\n",
    "ing a function that takes in digital samples of a \n",
    "song/recording and produces a spectrogram of log-scaled amplitudes and extracts local peaks from it'''\n",
    "\n"
   ]
  },
  {
   "cell_type": "code",
   "execution_count": null,
   "metadata": {
    "pycharm": {
     "name": "#%%\n"
    }
   },
   "outputs": [],
   "source": [
    "# [Name] Module"
   ]
  }
 ],
 "metadata": {
  "kernelspec": {
   "display_name": "Python 3.8.13 ('week1')",
   "language": "python",
   "name": "python3"
  },
  "language_info": {
   "name": "python",
   "version": "3.8.13"
  },
  "orig_nbformat": 4,
  "vscode": {
   "interpreter": {
    "hash": "d83d63ff42f99f351718605f93ce7dd50bd6cc9ce7eefd5f145cc5f720743d42"
   }
  }
 },
 "nbformat": 4,
 "nbformat_minor": 2
}
