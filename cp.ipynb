{
 "cells": [
  {
   "cell_type": "code",
   "execution_count": 25,
   "metadata": {},
   "outputs": [],
   "source": [
    "import numpy as np\n",
    "import matplotlib.pyplot as plt\n",
    "import librosa\n",
    "\n",
    "def clip_producer(audio_samp : np.ndarray, l : int):\n",
    "    data = audio_samp\n",
    "    split_amt = \n",
    "\n",
    "\n",
    "    return clip_coll\n",
    "    "
   ]
  },
  {
   "cell_type": "code",
   "execution_count": 46,
   "metadata": {},
   "outputs": [
    {
     "ename": "NameError",
     "evalue": "name 'librosa' is not defined",
     "output_type": "error",
     "traceback": [
      "\u001b[0;31m---------------------------------------------------------------------------\u001b[0m",
      "\u001b[0;31mNameError\u001b[0m                                 Traceback (most recent call last)",
      "\u001b[1;32m/Users/jordimalaret/Documents/GitHub/wk1_capstone/cp.ipynb Cell 2\u001b[0m in \u001b[0;36m<cell line: 1>\u001b[0;34m()\u001b[0m\n\u001b[0;32m----> <a href='vscode-notebook-cell:/Users/jordimalaret/Documents/GitHub/wk1_capstone/cp.ipynb#ch0000003?line=0'>1</a>\u001b[0m tup \u001b[39m=\u001b[39m librosa\u001b[39m.\u001b[39mload(\u001b[39m\"\u001b[39m\u001b[39msong_mp3/believer.mp3\u001b[39m\u001b[39m\"\u001b[39m, sr\u001b[39m=\u001b[39m\u001b[39mNone\u001b[39;00m)\n\u001b[1;32m      <a href='vscode-notebook-cell:/Users/jordimalaret/Documents/GitHub/wk1_capstone/cp.ipynb#ch0000003?line=1'>2</a>\u001b[0m \u001b[39mwith\u001b[39;00m \u001b[39mopen\u001b[39m(\u001b[39m\"\u001b[39m\u001b[39mdata/trumpet.txt\u001b[39m\u001b[39m\"\u001b[39m, \u001b[39m\"\u001b[39m\u001b[39mr\u001b[39m\u001b[39m\"\u001b[39m) \u001b[39mas\u001b[39;00m R:\n\u001b[1;32m      <a href='vscode-notebook-cell:/Users/jordimalaret/Documents/GitHub/wk1_capstone/cp.ipynb#ch0000003?line=2'>3</a>\u001b[0m     data \u001b[39m=\u001b[39m np\u001b[39m.\u001b[39masarray([\u001b[39mint\u001b[39m(i) \u001b[39mfor\u001b[39;00m i \u001b[39min\u001b[39;00m R])\n",
      "\u001b[0;31mNameError\u001b[0m: name 'librosa' is not defined"
     ]
    }
   ],
   "source": [
    "tup = librosa.load(\"song_mp3/believer.mp3\", sr=None)\n",
    "with open(\"data/trumpet.txt\", \"r\") as R:\n",
    "    data = np.asarray([int(i) for i in R])\n",
    "\n",
    "print(data)\n"
   ]
  },
  {
   "cell_type": "code",
   "execution_count": null,
   "metadata": {},
   "outputs": [],
   "source": []
  }
 ],
 "metadata": {
  "kernelspec": {
   "display_name": "Python 3.8.13 ('week1')",
   "language": "python",
   "name": "python3"
  },
  "language_info": {
   "codemirror_mode": {
    "name": "ipython",
    "version": 3
   },
   "file_extension": ".py",
   "mimetype": "text/x-python",
   "name": "python",
   "nbconvert_exporter": "python",
   "pygments_lexer": "ipython3",
   "version": "3.8.13"
  },
  "orig_nbformat": 4,
  "vscode": {
   "interpreter": {
    "hash": "312854932c3134db89fe9da1703c9f4cecc2f10b1f5e31a3bcfb0349d7fc7884"
   }
  }
 },
 "nbformat": 4,
 "nbformat_minor": 2
}
