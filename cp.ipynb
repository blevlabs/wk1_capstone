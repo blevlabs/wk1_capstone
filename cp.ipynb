{
 "cells": [
  {
   "cell_type": "code",
   "execution_count": null,
   "outputs": [],
   "source": [
    "import numpy as np\n",
    "import matplotlib.pyplot as plt\n",
    "import librosa\n",
    "import random\n",
    "\n",
    "def clip_producer(audio_samp : np.ndarray, l : int):\n",
    "    \"\"\"\n",
    "    Function that takes long arrays of digital samples (eg. 2 min long audio) \n",
    "    and returns a random portion of a determined size. \n",
    "    This can be used to test small clips on the song identification program\n",
    "\n",
    "    Parameter \n",
    "    ---------------\n",
    "    audio_samp : numpy.ndarray\n",
    "        array of digital audio samples\n",
    "    l : int\n",
    "        length of clip produced in seconds\n",
    "    \n",
    "    Returns\n",
    "    -------\n",
    "    rand_clip : numpy.ndarray\n",
    "        random portion of audio_samp array of shape((44100 * l),)\n",
    "    \"\"\"\n",
    "    data = audio_samp\n",
    "    split_amt = data.shape[0]//(44100 * l)\n",
    "    split_data = np.array_split(data, split_amt)\n",
    "    rand_clip = random.choice(split_data)\n",
    "\n",
    "\n",
    "    return rand_clip\n",
    "    "
   ],
   "metadata": {
    "collapsed": false,
    "pycharm": {
     "name": "#%%\n"
    }
   }
  },
  {
   "cell_type": "code",
   "execution_count": null,
   "outputs": [],
   "source": [
    "tup = librosa.load(\"song_mp3/believer.mp3\", sr=None)\n",
    "\n",
    "arr = tup[0]\n",
    "\n",
    "clip = clip_producer(arr, 10)\n",
    "\n",
    "\n",
    "\n",
    "\n"
   ],
   "metadata": {
    "collapsed": false,
    "pycharm": {
     "name": "#%%\n"
    }
   }
  },
  {
   "cell_type": "code",
   "execution_count": null,
   "metadata": {},
   "outputs": [],
   "source": []
  }
 ],
 "metadata": {
  "kernelspec": {
   "display_name": "Python 3.8.13 ('week1')",
   "language": "python",
   "name": "python3"
  },
  "language_info": {
   "codemirror_mode": {
    "name": "ipython",
    "version": 3
   },
   "file_extension": ".py",
   "mimetype": "text/x-python",
   "name": "python",
   "nbconvert_exporter": "python",
   "pygments_lexer": "ipython3",
   "version": "3.8.13"
  },
  "orig_nbformat": 4,
  "vscode": {
   "interpreter": {
    "hash": "312854932c3134db89fe9da1703c9f4cecc2f10b1f5e31a3bcfb0349d7fc7884"
   }
  }
 },
 "nbformat": 4,
 "nbformat_minor": 2
}