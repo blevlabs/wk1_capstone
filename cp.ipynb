{
 "cells": [
  {
   "cell_type": "code",
   "execution_count": 25,
   "metadata": {},
   "outputs": [],
   "source": [
    "import numpy as np\n",
    "import matplotlib.pyplot as plt\n",
    "\n",
    "def clip_producer(audio_samp : np.ndarray, l : int):\n",
    "    clip_coll = np.empty(audio_samp.shape[0])\n",
    "    for i in range(l):\n",
    "        new_clip = audio_samp[:(44100 * (i+1))]\n",
    "        np.stack((clip_coll, new_clip))\n",
    "    return clip_coll\n",
    "    "
   ]
  },
  {
   "cell_type": "code",
   "execution_count": 26,
   "metadata": {},
   "outputs": [
    {
     "name": "stdout",
     "output_type": "stream",
     "text": [
      "[  -2   -5   -1 ... 4225 4414 4397]\n"
     ]
    },
    {
     "ename": "ValueError",
     "evalue": "all input arrays must have the same shape",
     "output_type": "error",
     "traceback": [
      "\u001b[0;31m---------------------------------------------------------------------------\u001b[0m",
      "\u001b[0;31mValueError\u001b[0m                                Traceback (most recent call last)",
      "\u001b[1;32m/Users/jordimalaret/Documents/GitHub/wk1_capstone/cp.ipynb Cell 2\u001b[0m in \u001b[0;36m<cell line: 6>\u001b[0;34m()\u001b[0m\n\u001b[1;32m      <a href='vscode-notebook-cell:/Users/jordimalaret/Documents/GitHub/wk1_capstone/cp.ipynb#ch0000003?line=1'>2</a>\u001b[0m     data \u001b[39m=\u001b[39m np\u001b[39m.\u001b[39masarray([\u001b[39mint\u001b[39m(i) \u001b[39mfor\u001b[39;00m i \u001b[39min\u001b[39;00m R])\n\u001b[1;32m      <a href='vscode-notebook-cell:/Users/jordimalaret/Documents/GitHub/wk1_capstone/cp.ipynb#ch0000003?line=3'>4</a>\u001b[0m \u001b[39mprint\u001b[39m(data)\n\u001b[0;32m----> <a href='vscode-notebook-cell:/Users/jordimalaret/Documents/GitHub/wk1_capstone/cp.ipynb#ch0000003?line=5'>6</a>\u001b[0m clip_producer(data, \u001b[39m2\u001b[39;49m)\n",
      "\u001b[1;32m/Users/jordimalaret/Documents/GitHub/wk1_capstone/cp.ipynb Cell 2\u001b[0m in \u001b[0;36mclip_producer\u001b[0;34m(audio_samp, l)\u001b[0m\n\u001b[1;32m      <a href='vscode-notebook-cell:/Users/jordimalaret/Documents/GitHub/wk1_capstone/cp.ipynb#ch0000003?line=5'>6</a>\u001b[0m \u001b[39mfor\u001b[39;00m i \u001b[39min\u001b[39;00m \u001b[39mrange\u001b[39m(l):\n\u001b[1;32m      <a href='vscode-notebook-cell:/Users/jordimalaret/Documents/GitHub/wk1_capstone/cp.ipynb#ch0000003?line=6'>7</a>\u001b[0m     new_clip \u001b[39m=\u001b[39m audio_samp[:(\u001b[39m44100\u001b[39m \u001b[39m*\u001b[39m (i\u001b[39m+\u001b[39m\u001b[39m1\u001b[39m))]\n\u001b[0;32m----> <a href='vscode-notebook-cell:/Users/jordimalaret/Documents/GitHub/wk1_capstone/cp.ipynb#ch0000003?line=7'>8</a>\u001b[0m     np\u001b[39m.\u001b[39;49mstack((clip_coll, new_clip))\n\u001b[1;32m      <a href='vscode-notebook-cell:/Users/jordimalaret/Documents/GitHub/wk1_capstone/cp.ipynb#ch0000003?line=8'>9</a>\u001b[0m \u001b[39mreturn\u001b[39;00m clip_coll\n",
      "File \u001b[0;32m<__array_function__ internals>:5\u001b[0m, in \u001b[0;36mstack\u001b[0;34m(*args, **kwargs)\u001b[0m\n",
      "File \u001b[0;32m~/opt/anaconda3/envs/week1/lib/python3.8/site-packages/numpy/core/shape_base.py:426\u001b[0m, in \u001b[0;36mstack\u001b[0;34m(arrays, axis, out)\u001b[0m\n\u001b[1;32m    424\u001b[0m shapes \u001b[39m=\u001b[39m {arr\u001b[39m.\u001b[39mshape \u001b[39mfor\u001b[39;00m arr \u001b[39min\u001b[39;00m arrays}\n\u001b[1;32m    425\u001b[0m \u001b[39mif\u001b[39;00m \u001b[39mlen\u001b[39m(shapes) \u001b[39m!=\u001b[39m \u001b[39m1\u001b[39m:\n\u001b[0;32m--> 426\u001b[0m     \u001b[39mraise\u001b[39;00m \u001b[39mValueError\u001b[39;00m(\u001b[39m'\u001b[39m\u001b[39mall input arrays must have the same shape\u001b[39m\u001b[39m'\u001b[39m)\n\u001b[1;32m    428\u001b[0m result_ndim \u001b[39m=\u001b[39m arrays[\u001b[39m0\u001b[39m]\u001b[39m.\u001b[39mndim \u001b[39m+\u001b[39m \u001b[39m1\u001b[39m\n\u001b[1;32m    429\u001b[0m axis \u001b[39m=\u001b[39m normalize_axis_index(axis, result_ndim)\n",
      "\u001b[0;31mValueError\u001b[0m: all input arrays must have the same shape"
     ]
    }
   ],
   "source": [
    "with open(\"data/trumpet.txt\", \"r\") as R:\n",
    "    data = np.asarray([int(i) for i in R])\n",
    "\n",
    "print(data)\n",
    "\n",
    "clip_producer(data, 2)\n",
    "\n",
    "\n",
    "\n"
   ]
  },
  {
   "cell_type": "code",
   "execution_count": null,
   "metadata": {},
   "outputs": [],
   "source": []
  }
 ],
 "metadata": {
  "kernelspec": {
   "display_name": "Python 3.9.9 64-bit",
   "language": "python",
   "name": "python3"
  },
  "language_info": {
   "codemirror_mode": {
    "name": "ipython",
    "version": 3
   },
   "file_extension": ".py",
   "mimetype": "text/x-python",
   "name": "python",
   "nbconvert_exporter": "python",
   "pygments_lexer": "ipython3",
   "version": "3.9.9"
  },
  "orig_nbformat": 4,
  "vscode": {
   "interpreter": {
    "hash": "4bef01f8b2c353ae1912061b8720f3d51cb1bd0c5910f32855c4fdbf8a3f5881"
   }
  }
 },
 "nbformat": 4,
 "nbformat_minor": 2
}
