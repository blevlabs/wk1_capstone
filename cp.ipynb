{
 "cells": [
  {
   "cell_type": "code",
   "execution_count": 25,
   "metadata": {
    "pycharm": {
     "name": "#%%\n"
    }
   },
   "outputs": [],
   "source": [
    "import numpy as np\n",
    "import matplotlib.pyplot as plt\n",
    "\n",
    "def clip_producer(audio_samp : np.ndarray, l : int):\n",
    "    clip_coll = np.empty(audio_samp.shape[0])\n",
    "    for i in range(l):\n",
    "        new_clip = audio_samp[:(44100 * (i+1))]\n",
    "        np.stack((clip_coll, new_clip))\n",
    "    return clip_coll\n",
    "    "
   ]
  },
  {
   "cell_type": "code",
   "execution_count": 26,
   "metadata": {
    "pycharm": {
     "name": "#%%\n"
    }
   },
   "outputs": [
    {
     "name": "stdout",
     "output_type": "stream",
     "text": [
      "[  -2   -5   -1 ... 4225 4414 4397]\n"
     ]
    },
    {
     "ename": "ValueError",
     "evalue": "all input arrays must have the same shape",
     "output_type": "error",
     "traceback": [
      "\u001B[0;31m---------------------------------------------------------------------------\u001B[0m",
      "\u001B[0;31mValueError\u001B[0m                                Traceback (most recent call last)",
      "\u001B[1;32m/Users/jordimalaret/Documents/GitHub/wk1_capstone/cp.ipynb Cell 2\u001B[0m in \u001B[0;36m<cell line: 6>\u001B[0;34m()\u001B[0m\n\u001B[1;32m      <a href='vscode-notebook-cell:/Users/jordimalaret/Documents/GitHub/wk1_capstone/cp.ipynb#ch0000003?line=1'>2</a>\u001B[0m     data \u001B[39m=\u001B[39m np\u001B[39m.\u001B[39masarray([\u001B[39mint\u001B[39m(i) \u001B[39mfor\u001B[39;00m i \u001B[39min\u001B[39;00m R])\n\u001B[1;32m      <a href='vscode-notebook-cell:/Users/jordimalaret/Documents/GitHub/wk1_capstone/cp.ipynb#ch0000003?line=3'>4</a>\u001B[0m \u001B[39mprint\u001B[39m(data)\n\u001B[0;32m----> <a href='vscode-notebook-cell:/Users/jordimalaret/Documents/GitHub/wk1_capstone/cp.ipynb#ch0000003?line=5'>6</a>\u001B[0m clip_producer(data, \u001B[39m2\u001B[39;49m)\n",
      "\u001B[1;32m/Users/jordimalaret/Documents/GitHub/wk1_capstone/cp.ipynb Cell 2\u001B[0m in \u001B[0;36mclip_producer\u001B[0;34m(audio_samp, l)\u001B[0m\n\u001B[1;32m      <a href='vscode-notebook-cell:/Users/jordimalaret/Documents/GitHub/wk1_capstone/cp.ipynb#ch0000003?line=5'>6</a>\u001B[0m \u001B[39mfor\u001B[39;00m i \u001B[39min\u001B[39;00m \u001B[39mrange\u001B[39m(l):\n\u001B[1;32m      <a href='vscode-notebook-cell:/Users/jordimalaret/Documents/GitHub/wk1_capstone/cp.ipynb#ch0000003?line=6'>7</a>\u001B[0m     new_clip \u001B[39m=\u001B[39m audio_samp[:(\u001B[39m44100\u001B[39m \u001B[39m*\u001B[39m (i\u001B[39m+\u001B[39m\u001B[39m1\u001B[39m))]\n\u001B[0;32m----> <a href='vscode-notebook-cell:/Users/jordimalaret/Documents/GitHub/wk1_capstone/cp.ipynb#ch0000003?line=7'>8</a>\u001B[0m     np\u001B[39m.\u001B[39;49mstack((clip_coll, new_clip))\n\u001B[1;32m      <a href='vscode-notebook-cell:/Users/jordimalaret/Documents/GitHub/wk1_capstone/cp.ipynb#ch0000003?line=8'>9</a>\u001B[0m \u001B[39mreturn\u001B[39;00m clip_coll\n",
      "File \u001B[0;32m<__array_function__ internals>:5\u001B[0m, in \u001B[0;36mstack\u001B[0;34m(*args, **kwargs)\u001B[0m\n",
      "File \u001B[0;32m~/opt/anaconda3/envs/week1/lib/python3.8/site-packages/numpy/core/shape_base.py:426\u001B[0m, in \u001B[0;36mstack\u001B[0;34m(arrays, axis, out)\u001B[0m\n\u001B[1;32m    424\u001B[0m shapes \u001B[39m=\u001B[39m {arr\u001B[39m.\u001B[39mshape \u001B[39mfor\u001B[39;00m arr \u001B[39min\u001B[39;00m arrays}\n\u001B[1;32m    425\u001B[0m \u001B[39mif\u001B[39;00m \u001B[39mlen\u001B[39m(shapes) \u001B[39m!=\u001B[39m \u001B[39m1\u001B[39m:\n\u001B[0;32m--> 426\u001B[0m     \u001B[39mraise\u001B[39;00m \u001B[39mValueError\u001B[39;00m(\u001B[39m'\u001B[39m\u001B[39mall input arrays must have the same shape\u001B[39m\u001B[39m'\u001B[39m)\n\u001B[1;32m    428\u001B[0m result_ndim \u001B[39m=\u001B[39m arrays[\u001B[39m0\u001B[39m]\u001B[39m.\u001B[39mndim \u001B[39m+\u001B[39m \u001B[39m1\u001B[39m\n\u001B[1;32m    429\u001B[0m axis \u001B[39m=\u001B[39m normalize_axis_index(axis, result_ndim)\n",
      "\u001B[0;31mValueError\u001B[0m: all input arrays must have the same shape"
     ]
    }
   ],
   "source": [
    "with open(\"data/trumpet.txt\", \"r\") as R:\n",
    "    data = np.asarray([int(i) for i in R])\n",
    "\n",
    "print(data)\n",
    "\n",
    "clip_producer(data, 2)\n",
    "\n",
    "\n",
    "\n"
   ]
  },
  {
   "cell_type": "code",
   "execution_count": null,
   "metadata": {
    "pycharm": {
     "name": "#%%\n"
    }
   },
   "outputs": [],
   "source": []
  }
 ],
 "metadata": {
  "kernelspec": {
   "display_name": "Python 3.9.9 64-bit",
   "language": "python",
   "name": "python3"
  },
  "language_info": {
   "codemirror_mode": {
    "name": "ipython",
    "version": 3
   },
   "file_extension": ".py",
   "mimetype": "text/x-python",
   "name": "python",
   "nbconvert_exporter": "python",
   "pygments_lexer": "ipython3",
   "version": "3.9.9"
  },
  "orig_nbformat": 4,
  "vscode": {
   "interpreter": {
    "hash": "4bef01f8b2c353ae1912061b8720f3d51cb1bd0c5910f32855c4fdbf8a3f5881"
   }
  }
 },
 "nbformat": 4,
 "nbformat_minor": 2
}