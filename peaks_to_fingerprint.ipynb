{
 "cells": [
  {
   "cell_type": "code",
   "execution_count": null,
   "metadata": {},
   "outputs": [],
   "source": [
    "#Task 3: Converting Peaks to a fingerprint\n",
    "import numpy as np\n",
    "def peaks_to_fingerprint(peaks: np.ndarray, neighbors: int)\n",
    "   \n",
    "     \"\"\"meters:\n",
    "        peaks: np.ndarray, shape = (N,)\n",
    "            Contains tuples of peak locations\n",
    "        neighbors: int\n",
    "            The number of nearest peaks to map to\n",
    "    \n",
    "  \n",
    ", shape -= ()nN,\n",
    "      Parameters:\n",
    "        peaks: nppeak_1, peak_2, peak_3... peak_na where\n",
    "                peak_1 = [[(freq_1, freq_m+1, time_diff_1), time]\n",
    "                          [(freq_1, freq_m+2, time_diff_2), time]\n",
    "                          :\n",
    "                          :]rray, shape = (N,)\n",
    "            Contains tuples of peak locations\n",
    "        neighbors: int\n",
    "            The number of nearest peaks to map to\n",
    "    \"\"\"\n",
    "\n"
   ]
  }
 ],
 "metadata": {
  "kernelspec": {
   "display_name": "Python 3.9.9 64-bit",
   "language": "python",
   "name": "python3"
  },
  "language_info": {
   "codemirror_mode": {
    "name": "ipython",
    "version": 3
   },
   "file_extension": ".py",
   "mimetype": "text/x-python",
   "name": "python",
   "nbconvert_exporter": "python",
   "pygments_lexer": "ipython3",
   "version": "3.9.9"
  },
  "orig_nbformat": 4,
  "vscode": {
   "interpreter": {
    "hash": "4bef01f8b2c353ae1912061b8720f3d51cb1bd0c5910f32855c4fdbf8a3f5881"
   }
  }
 },
 "nbformat": 4,
 "nbformat_minor": 2
}
